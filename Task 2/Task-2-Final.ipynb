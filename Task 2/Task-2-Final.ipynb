{
 "cells": [
  {
   "cell_type": "markdown",
   "metadata": {},
   "source": [
    "# D2W 2D Project Task 2\n",
    "\n",
    "<div class=\"alert alert-block alert-info\">\n",
    "\n",
    "**Contents**\n",
    "\n",
    "- [Group Members](#Group-Members)  \n",
    "- [Introduction](#Introduction)\n",
    "- [Key Files](#Key-Files)\n",
    "- [Data Pre-Processing](#Data-Pre-Processing)\n",
    "- [Prepare dataset for training model](#Prepare-dataset-for-training-model)\n",
    "- [Train Model](#Train-Model)\n",
    "- [Model Training Logs](#Model-Training-Logs)\n",
    "- [Evaluate Model](#Evaluate-Model)\n",
    "\n",
    "\n",
    "</div>\n",
    "\n",
    "## Group Members \n",
    "\n",
    "[Return to top](#D2W-2D-Project-Task-2)  \n",
    "\n",
    "| Name | ID | Contribution |\n",
    "| :-: | :-: | :-: |\n",
    "| Dickson Neo Jia Xuan | 1005203 | Sourcing of data |\n",
    "| Wang Siyang | 1005485 | Pre-process data, Train model  and evaluate model |\n",
    "| Fu Meihui | 1004864 | Data visualization, Video presentation |\n",
    "| James Huang Yong Heng | 1005461 | Sourcing of data |\n",
    "| Yeo Wan Li | 1005321 | Data visualization |\n",
    "\n",
    "\n",
    "## Introduction\n",
    "\n",
    "[Return to top](#D2W-2D-Project-Task-2)  \n",
    "\n",
    "**Background**: Towards the end of a COVID-19 outbreak in a country, governments will want to estimate the Reproduction rate of COVID-19 to decide whether to open up restrictions. However, Reproduction rates are not easy to calculate, and if we are able to estimate it based on variables that are easily found online, this can save the government valuable time and money.\n",
    "\n",
    "**Problem Statement**: Estimate the Reproduction rate of COVID-19 in a country, based on the movment trends of said country\n",
    "\n",
    "**Method**: Train Multiple Linear Regression Model with 12 features through gradient descent algorithm"
   ]
  },
  {
   "cell_type": "markdown",
   "metadata": {},
   "source": [
    "## Key Files\n",
    "\n",
    "[Return to top](#D2W-2D-Project-Task-2)\n",
    "\n",
    "Below is the directory tree that shows the location of datasets and model (jupyter notebook)\n",
    "\n",
    "```\n",
    "task_2\n",
    "├── Task-2-Final.ipynb\n",
    "├── owid-covid-data.csv\n",
    "└── Region_Mobility_Report_CSVs\n",
    "    ├── 2020_AE_Region_Mobility_Report.csv\n",
    "    ├── ...\n",
    "    └── 2021_ZW_Region_Mobility_Report.csv\n",
    "    \n",
    "```\n",
    "\n",
    "These files have the following specifications:\n",
    "- `Task-2-Final.ipynb` - contains the code needed to extract data, build model and predict results\n",
    "- `owid-covid-data.csv` - database of each country's COVID-related data in each day. Data is downloaded from\n",
    "[Our World in Data (OWID)](https://github.com/owid/covid-19-data/tree/master/public/data)\n",
    "- `Region_Mobility_Report_CSVs` - database of each country's movement trends, as collected by [Google](https://www.google.com/covid19/mobility/). Since the reproduction rate also depends on social factors, such as the amount of people in public spaces, we expect that there is a relationship between movement trends and reproduction rate"
   ]
  },
  {
   "cell_type": "code",
   "execution_count": 1,
   "metadata": {},
   "outputs": [],
   "source": [
    "import numpy as np\n",
    "import pandas as pd\n",
    "import matplotlib.pyplot as plt\n",
    "import seaborn as sns"
   ]
  },
  {
   "cell_type": "markdown",
   "metadata": {},
   "source": [
    "## Data Pre-Processing\n",
    "\n",
    "[Return to top](#D2W-2D-Project-Task-2)  \n",
    "\n",
    "Each country's movement trend data for 2020 and 2021 are in different .csv files. To allow the user to quickly create the dataset that contains the movement trends and reproduction rate of different countries, we used a dictionary that maps each country name as it appears in the `location` column of `owid-covid-data.csv` to the abbreviation that was used in naming of the movement trend data files.  \n",
    "\n",
    "The code for processing the data, such as removing NaN values and removing data at the county level (Reproduction Rate of covid was not available at the county level of all countries) is also done in this section.  \n",
    "\n",
    "Data Visualization was also carried out to ensure that there was a clear relationship between the movement trend data and the Reproduction Rate. Since we observe that the reproduction rate grows exponentially for all 6 features, we applied the exponential of each feature to create a total of 12 features."
   ]
  },
  {
   "cell_type": "code",
   "execution_count": 2,
   "metadata": {},
   "outputs": [],
   "source": [
    "country = 'United Kingdom'\n",
    "country_map = {'United States':'US','United Kingdom':'GB','Singapore':'SG','Vietnam':'VN'}"
   ]
  },
  {
   "cell_type": "code",
   "execution_count": 3,
   "metadata": {},
   "outputs": [],
   "source": [
    "##import dataset that contains reproduction rate data\n",
    "df = pd.read_csv(\"owid-covid-data.csv\")"
   ]
  },
  {
   "cell_type": "code",
   "execution_count": 4,
   "metadata": {},
   "outputs": [
    {
     "data": {
      "text/html": [
       "<div>\n",
       "<style scoped>\n",
       "    .dataframe tbody tr th:only-of-type {\n",
       "        vertical-align: middle;\n",
       "    }\n",
       "\n",
       "    .dataframe tbody tr th {\n",
       "        vertical-align: top;\n",
       "    }\n",
       "\n",
       "    .dataframe thead th {\n",
       "        text-align: right;\n",
       "    }\n",
       "</style>\n",
       "<table border=\"1\" class=\"dataframe\">\n",
       "  <thead>\n",
       "    <tr style=\"text-align: right;\">\n",
       "      <th></th>\n",
       "      <th>location</th>\n",
       "      <th>date</th>\n",
       "      <th>reproduction_rate</th>\n",
       "    </tr>\n",
       "  </thead>\n",
       "  <tbody>\n",
       "    <tr>\n",
       "      <th>118585</th>\n",
       "      <td>United Kingdom</td>\n",
       "      <td>2020-03-03</td>\n",
       "      <td>2.11</td>\n",
       "    </tr>\n",
       "    <tr>\n",
       "      <th>118586</th>\n",
       "      <td>United Kingdom</td>\n",
       "      <td>2020-03-04</td>\n",
       "      <td>2.06</td>\n",
       "    </tr>\n",
       "    <tr>\n",
       "      <th>118587</th>\n",
       "      <td>United Kingdom</td>\n",
       "      <td>2020-03-05</td>\n",
       "      <td>2.09</td>\n",
       "    </tr>\n",
       "    <tr>\n",
       "      <th>118588</th>\n",
       "      <td>United Kingdom</td>\n",
       "      <td>2020-03-06</td>\n",
       "      <td>2.24</td>\n",
       "    </tr>\n",
       "    <tr>\n",
       "      <th>118589</th>\n",
       "      <td>United Kingdom</td>\n",
       "      <td>2020-03-07</td>\n",
       "      <td>2.36</td>\n",
       "    </tr>\n",
       "    <tr>\n",
       "      <th>...</th>\n",
       "      <td>...</td>\n",
       "      <td>...</td>\n",
       "      <td>...</td>\n",
       "    </tr>\n",
       "    <tr>\n",
       "      <th>119175</th>\n",
       "      <td>United Kingdom</td>\n",
       "      <td>2021-10-14</td>\n",
       "      <td>1.13</td>\n",
       "    </tr>\n",
       "    <tr>\n",
       "      <th>119176</th>\n",
       "      <td>United Kingdom</td>\n",
       "      <td>2021-10-15</td>\n",
       "      <td>1.15</td>\n",
       "    </tr>\n",
       "    <tr>\n",
       "      <th>119177</th>\n",
       "      <td>United Kingdom</td>\n",
       "      <td>2021-10-16</td>\n",
       "      <td>1.16</td>\n",
       "    </tr>\n",
       "    <tr>\n",
       "      <th>119178</th>\n",
       "      <td>United Kingdom</td>\n",
       "      <td>2021-10-17</td>\n",
       "      <td>1.18</td>\n",
       "    </tr>\n",
       "    <tr>\n",
       "      <th>119179</th>\n",
       "      <td>United Kingdom</td>\n",
       "      <td>2021-10-18</td>\n",
       "      <td>1.18</td>\n",
       "    </tr>\n",
       "  </tbody>\n",
       "</table>\n",
       "<p>595 rows × 3 columns</p>\n",
       "</div>"
      ],
      "text/plain": [
       "              location       date  reproduction_rate\n",
       "118585  United Kingdom 2020-03-03               2.11\n",
       "118586  United Kingdom 2020-03-04               2.06\n",
       "118587  United Kingdom 2020-03-05               2.09\n",
       "118588  United Kingdom 2020-03-06               2.24\n",
       "118589  United Kingdom 2020-03-07               2.36\n",
       "...                ...        ...                ...\n",
       "119175  United Kingdom 2021-10-14               1.13\n",
       "119176  United Kingdom 2021-10-15               1.15\n",
       "119177  United Kingdom 2021-10-16               1.16\n",
       "119178  United Kingdom 2021-10-17               1.18\n",
       "119179  United Kingdom 2021-10-18               1.18\n",
       "\n",
       "[595 rows x 3 columns]"
      ]
     },
     "execution_count": 4,
     "metadata": {},
     "output_type": "execute_result"
    }
   ],
   "source": [
    "#set the country\n",
    "country_df = df[df['location']==country]\n",
    "\n",
    "#take only necessary features from this dataframe\n",
    "country_df_features = ['location','date','reproduction_rate']\n",
    "country_df = country_df.loc[:,country_df_features]\n",
    "\n",
    "#edit the date feature (for merge purposes later)\n",
    "country_df.loc[:,'date'] = pd.to_datetime(country_df.loc[:,'date'])\n",
    "\n",
    "#remove NA\n",
    "country_df = country_df[country_df['reproduction_rate'].notna()]\n",
    "country_df"
   ]
  },
  {
   "cell_type": "code",
   "execution_count": 5,
   "metadata": {
    "scrolled": true
   },
   "outputs": [],
   "source": [
    "def get_feature_df(year):\n",
    "    #import the features from google database\n",
    "    feature_df = pd.read_csv('Region_Mobility_Report_CSVs/'+str(year)+'_'+country_map[country]+'_Region_Mobility_Report.csv')\n",
    "\n",
    "    feature_df_features = ['date', 'retail_and_recreation_percent_change_from_baseline',\\\n",
    "                           'grocery_and_pharmacy_percent_change_from_baseline',\\\n",
    "                           'parks_percent_change_from_baseline',\\\n",
    "                           'transit_stations_percent_change_from_baseline',\\\n",
    "                           'workplaces_percent_change_from_baseline',\\\n",
    "                           'residential_percent_change_from_baseline']\n",
    "\n",
    "    #choose the national data only \n",
    "    #(sub_region_1 is county data, national data is NA for this column)\n",
    "    feature_df = feature_df[feature_df['sub_region_1'].isna()]\n",
    "\n",
    "    #choose all necessary features\n",
    "    feature_df = feature_df.loc[:,feature_df_features]\n",
    "\n",
    "    #edit the date feature (for merge purposes later)\n",
    "    feature_df.loc[:,'date'] = pd.to_datetime(feature_df.loc[:,'date'])\n",
    "\n",
    "    #rename each feature to shorten the long name\n",
    "    mapping = {}\n",
    "    for i in range(1,len(feature_df.columns)):\n",
    "        ending = '_percent_change_from_baseline'\n",
    "        feature = feature_df.columns[i]\n",
    "        short_name = feature_df.loc[:,feature].name[:-len(ending)]\n",
    "        mapping[feature] = short_name   \n",
    "    feature_df.rename(columns=mapping,inplace=True)\n",
    "\n",
    "    #create the exponential feature\n",
    "    for i in range(1,len(feature_df.columns)):\n",
    "        feature = feature_df.columns[i]\n",
    "        feature_df[feature+'_exp'] = np.exp((feature_df[feature]+100)/10)\n",
    "    \n",
    "    return feature_df\n",
    "\n",
    "feature_df = get_feature_df(2021)"
   ]
  },
  {
   "cell_type": "code",
   "execution_count": 6,
   "metadata": {},
   "outputs": [],
   "source": [
    "#join reproduction rate data and movement trend data together\n",
    "joined_df = pd.merge(country_df,feature_df,on=\"date\",how=\"inner\")"
   ]
  },
  {
   "cell_type": "code",
   "execution_count": 7,
   "metadata": {},
   "outputs": [
    {
     "data": {
      "image/png": "[encoded data removed]",
      "text/plain": [
       "<Figure size 1080x180 with 6 Axes>"
      ]
     },
     "metadata": {
      "needs_background": "light"
     },
     "output_type": "display_data"
    },
    {
     "data": {
      "image/png": "[encoded data removed]",
      "text/plain": [
       "<Figure size 1080x180 with 6 Axes>"
      ]
     },
     "metadata": {
      "needs_background": "light"
     },
     "output_type": "display_data"
    }
   ],
   "source": [
    "#scatter plot of each feature against the reproduction rate\n",
    "feature_names = joined_df.columns[3:]\n",
    "for i in range(0,len(feature_names),6):\n",
    "    myplot=sns.pairplot(data = joined_df,\n",
    "                        y_vars=['reproduction_rate'],\n",
    "                        x_vars=feature_names[i:i+6])"
   ]
  },
  {
   "cell_type": "code",
   "execution_count": 8,
   "metadata": {
    "scrolled": true
   },
   "outputs": [
    {
     "data": {
      "text/html": [
       "<div>\n",
       "<style scoped>\n",
       "    .dataframe tbody tr th:only-of-type {\n",
       "        vertical-align: middle;\n",
       "    }\n",
       "\n",
       "    .dataframe tbody tr th {\n",
       "        vertical-align: top;\n",
       "    }\n",
       "\n",
       "    .dataframe thead th {\n",
       "        text-align: right;\n",
       "    }\n",
       "</style>\n",
       "<table border=\"1\" class=\"dataframe\">\n",
       "  <thead>\n",
       "    <tr style=\"text-align: right;\">\n",
       "      <th></th>\n",
       "      <th>location</th>\n",
       "      <th>date</th>\n",
       "      <th>reproduction_rate</th>\n",
       "      <th>retail_and_recreation</th>\n",
       "      <th>grocery_and_pharmacy</th>\n",
       "      <th>parks</th>\n",
       "      <th>transit_stations</th>\n",
       "      <th>workplaces</th>\n",
       "      <th>residential</th>\n",
       "      <th>retail_and_recreation_exp</th>\n",
       "      <th>grocery_and_pharmacy_exp</th>\n",
       "      <th>parks_exp</th>\n",
       "      <th>transit_stations_exp</th>\n",
       "      <th>workplaces_exp</th>\n",
       "      <th>residential_exp</th>\n",
       "    </tr>\n",
       "  </thead>\n",
       "  <tbody>\n",
       "    <tr>\n",
       "      <th>0</th>\n",
       "      <td>United Kingdom</td>\n",
       "      <td>2021-01-01</td>\n",
       "      <td>1.33</td>\n",
       "      <td>-83.0</td>\n",
       "      <td>-64.0</td>\n",
       "      <td>-5.0</td>\n",
       "      <td>-82.0</td>\n",
       "      <td>-83.0</td>\n",
       "      <td>32.0</td>\n",
       "      <td>5.473947</td>\n",
       "      <td>36.598234</td>\n",
       "      <td>13359.726830</td>\n",
       "      <td>6.049647</td>\n",
       "      <td>5.473947</td>\n",
       "      <td>540364.937247</td>\n",
       "    </tr>\n",
       "    <tr>\n",
       "      <th>1</th>\n",
       "      <td>United Kingdom</td>\n",
       "      <td>2021-01-02</td>\n",
       "      <td>1.33</td>\n",
       "      <td>-68.0</td>\n",
       "      <td>-24.0</td>\n",
       "      <td>-12.0</td>\n",
       "      <td>-66.0</td>\n",
       "      <td>-39.0</td>\n",
       "      <td>16.0</td>\n",
       "      <td>24.532530</td>\n",
       "      <td>1998.195895</td>\n",
       "      <td>6634.244006</td>\n",
       "      <td>29.964100</td>\n",
       "      <td>445.857770</td>\n",
       "      <td>109097.799277</td>\n",
       "    </tr>\n",
       "    <tr>\n",
       "      <th>2</th>\n",
       "      <td>United Kingdom</td>\n",
       "      <td>2021-01-03</td>\n",
       "      <td>1.31</td>\n",
       "      <td>-64.0</td>\n",
       "      <td>-24.0</td>\n",
       "      <td>-8.0</td>\n",
       "      <td>-62.0</td>\n",
       "      <td>-29.0</td>\n",
       "      <td>11.0</td>\n",
       "      <td>36.598234</td>\n",
       "      <td>1998.195895</td>\n",
       "      <td>9897.129059</td>\n",
       "      <td>44.701184</td>\n",
       "      <td>1211.967074</td>\n",
       "      <td>66171.160168</td>\n",
       "    </tr>\n",
       "    <tr>\n",
       "      <th>3</th>\n",
       "      <td>United Kingdom</td>\n",
       "      <td>2021-01-04</td>\n",
       "      <td>1.29</td>\n",
       "      <td>-53.0</td>\n",
       "      <td>-17.0</td>\n",
       "      <td>-16.0</td>\n",
       "      <td>-62.0</td>\n",
       "      <td>-49.0</td>\n",
       "      <td>19.0</td>\n",
       "      <td>109.947172</td>\n",
       "      <td>4023.872394</td>\n",
       "      <td>4447.066748</td>\n",
       "      <td>44.701184</td>\n",
       "      <td>164.021907</td>\n",
       "      <td>147266.625241</td>\n",
       "    </tr>\n",
       "    <tr>\n",
       "      <th>4</th>\n",
       "      <td>United Kingdom</td>\n",
       "      <td>2021-01-05</td>\n",
       "      <td>1.25</td>\n",
       "      <td>-61.0</td>\n",
       "      <td>-21.0</td>\n",
       "      <td>-18.0</td>\n",
       "      <td>-63.0</td>\n",
       "      <td>-50.0</td>\n",
       "      <td>20.0</td>\n",
       "      <td>49.402449</td>\n",
       "      <td>2697.282328</td>\n",
       "      <td>3640.950307</td>\n",
       "      <td>40.447304</td>\n",
       "      <td>148.413159</td>\n",
       "      <td>162754.791419</td>\n",
       "    </tr>\n",
       "    <tr>\n",
       "      <th>...</th>\n",
       "      <td>...</td>\n",
       "      <td>...</td>\n",
       "      <td>...</td>\n",
       "      <td>...</td>\n",
       "      <td>...</td>\n",
       "      <td>...</td>\n",
       "      <td>...</td>\n",
       "      <td>...</td>\n",
       "      <td>...</td>\n",
       "      <td>...</td>\n",
       "      <td>...</td>\n",
       "      <td>...</td>\n",
       "      <td>...</td>\n",
       "      <td>...</td>\n",
       "      <td>...</td>\n",
       "    </tr>\n",
       "    <tr>\n",
       "      <th>286</th>\n",
       "      <td>United Kingdom</td>\n",
       "      <td>2021-10-14</td>\n",
       "      <td>1.13</td>\n",
       "      <td>-11.0</td>\n",
       "      <td>5.0</td>\n",
       "      <td>37.0</td>\n",
       "      <td>-30.0</td>\n",
       "      <td>-29.0</td>\n",
       "      <td>7.0</td>\n",
       "      <td>7331.973539</td>\n",
       "      <td>36315.502674</td>\n",
       "      <td>890911.165979</td>\n",
       "      <td>1096.633158</td>\n",
       "      <td>1211.967074</td>\n",
       "      <td>44355.855130</td>\n",
       "    </tr>\n",
       "    <tr>\n",
       "      <th>287</th>\n",
       "      <td>United Kingdom</td>\n",
       "      <td>2021-10-15</td>\n",
       "      <td>1.15</td>\n",
       "      <td>-9.0</td>\n",
       "      <td>6.0</td>\n",
       "      <td>38.0</td>\n",
       "      <td>-26.0</td>\n",
       "      <td>-29.0</td>\n",
       "      <td>6.0</td>\n",
       "      <td>8955.292703</td>\n",
       "      <td>40134.837431</td>\n",
       "      <td>984609.111229</td>\n",
       "      <td>1635.984430</td>\n",
       "      <td>1211.967074</td>\n",
       "      <td>40134.837431</td>\n",
       "    </tr>\n",
       "    <tr>\n",
       "      <th>288</th>\n",
       "      <td>United Kingdom</td>\n",
       "      <td>2021-10-16</td>\n",
       "      <td>1.16</td>\n",
       "      <td>-12.0</td>\n",
       "      <td>0.0</td>\n",
       "      <td>26.0</td>\n",
       "      <td>-21.0</td>\n",
       "      <td>-8.0</td>\n",
       "      <td>2.0</td>\n",
       "      <td>6634.244006</td>\n",
       "      <td>22026.465795</td>\n",
       "      <td>296558.565298</td>\n",
       "      <td>2697.282328</td>\n",
       "      <td>9897.129059</td>\n",
       "      <td>26903.186074</td>\n",
       "    </tr>\n",
       "    <tr>\n",
       "      <th>289</th>\n",
       "      <td>United Kingdom</td>\n",
       "      <td>2021-10-17</td>\n",
       "      <td>1.18</td>\n",
       "      <td>-10.0</td>\n",
       "      <td>-2.0</td>\n",
       "      <td>29.0</td>\n",
       "      <td>-21.0</td>\n",
       "      <td>-6.0</td>\n",
       "      <td>2.0</td>\n",
       "      <td>8103.083928</td>\n",
       "      <td>18033.744928</td>\n",
       "      <td>400312.191330</td>\n",
       "      <td>2697.282328</td>\n",
       "      <td>12088.380730</td>\n",
       "      <td>26903.186074</td>\n",
       "    </tr>\n",
       "    <tr>\n",
       "      <th>290</th>\n",
       "      <td>United Kingdom</td>\n",
       "      <td>2021-10-18</td>\n",
       "      <td>1.18</td>\n",
       "      <td>-11.0</td>\n",
       "      <td>3.0</td>\n",
       "      <td>22.0</td>\n",
       "      <td>-31.0</td>\n",
       "      <td>-32.0</td>\n",
       "      <td>8.0</td>\n",
       "      <td>7331.973539</td>\n",
       "      <td>29732.618853</td>\n",
       "      <td>198789.151143</td>\n",
       "      <td>992.274716</td>\n",
       "      <td>897.847292</td>\n",
       "      <td>49020.801136</td>\n",
       "    </tr>\n",
       "  </tbody>\n",
       "</table>\n",
       "<p>291 rows × 15 columns</p>\n",
       "</div>"
      ],
      "text/plain": [
       "           location       date  reproduction_rate  retail_and_recreation  \\\n",
       "0    United Kingdom 2021-01-01               1.33                  -83.0   \n",
       "1    United Kingdom 2021-01-02               1.33                  -68.0   \n",
       "2    United Kingdom 2021-01-03               1.31                  -64.0   \n",
       "3    United Kingdom 2021-01-04               1.29                  -53.0   \n",
       "4    United Kingdom 2021-01-05               1.25                  -61.0   \n",
       "..              ...        ...                ...                    ...   \n",
       "286  United Kingdom 2021-10-14               1.13                  -11.0   \n",
       "287  United Kingdom 2021-10-15               1.15                   -9.0   \n",
       "288  United Kingdom 2021-10-16               1.16                  -12.0   \n",
       "289  United Kingdom 2021-10-17               1.18                  -10.0   \n",
       "290  United Kingdom 2021-10-18               1.18                  -11.0   \n",
       "\n",
       "     grocery_and_pharmacy  parks  transit_stations  workplaces  residential  \\\n",
       "0                   -64.0   -5.0             -82.0       -83.0         32.0   \n",
       "1                   -24.0  -12.0             -66.0       -39.0         16.0   \n",
       "2                   -24.0   -8.0             -62.0       -29.0         11.0   \n",
       "3                   -17.0  -16.0             -62.0       -49.0         19.0   \n",
       "4                   -21.0  -18.0             -63.0       -50.0         20.0   \n",
       "..                    ...    ...               ...         ...          ...   \n",
       "286                   5.0   37.0             -30.0       -29.0          7.0   \n",
       "287                   6.0   38.0             -26.0       -29.0          6.0   \n",
       "288                   0.0   26.0             -21.0        -8.0          2.0   \n",
       "289                  -2.0   29.0             -21.0        -6.0          2.0   \n",
       "290                   3.0   22.0             -31.0       -32.0          8.0   \n",
       "\n",
       "     retail_and_recreation_exp  grocery_and_pharmacy_exp      parks_exp  \\\n",
       "0                     5.473947                 36.598234   13359.726830   \n",
       "1                    24.532530               1998.195895    6634.244006   \n",
       "2                    36.598234               1998.195895    9897.129059   \n",
       "3                   109.947172               4023.872394    4447.066748   \n",
       "4                    49.402449               2697.282328    3640.950307   \n",
       "..                         ...                       ...            ...   \n",
       "286                7331.973539              36315.502674  890911.165979   \n",
       "287                8955.292703              40134.837431  984609.111229   \n",
       "288                6634.244006              22026.465795  296558.565298   \n",
       "289                8103.083928              18033.744928  400312.191330   \n",
       "290                7331.973539              29732.618853  198789.151143   \n",
       "\n",
       "     transit_stations_exp  workplaces_exp  residential_exp  \n",
       "0                6.049647        5.473947    540364.937247  \n",
       "1               29.964100      445.857770    109097.799277  \n",
       "2               44.701184     1211.967074     66171.160168  \n",
       "3               44.701184      164.021907    147266.625241  \n",
       "4               40.447304      148.413159    162754.791419  \n",
       "..                    ...             ...              ...  \n",
       "286           1096.633158     1211.967074     44355.855130  \n",
       "287           1635.984430     1211.967074     40134.837431  \n",
       "288           2697.282328     9897.129059     26903.186074  \n",
       "289           2697.282328    12088.380730     26903.186074  \n",
       "290            992.274716      897.847292     49020.801136  \n",
       "\n",
       "[291 rows x 15 columns]"
      ]
     },
     "execution_count": 8,
     "metadata": {},
     "output_type": "execute_result"
    }
   ],
   "source": [
    "df = joined_df\n",
    "df"
   ]
  },
  {
   "cell_type": "markdown",
   "metadata": {},
   "source": [
    "## Prepare dataset for training model\n",
    "\n",
    "[Return to top](#D2W-2D-Project-Task-2)\n",
    "\n",
    "Model will be trained using the train dataset, which is a subset of the entire dataset. Test_size is set at 0.3, since more training data will help to produce a model with higher accuracy, but we still want to retain a significant proportion from the model to test its ability to generalize to unseen data.  \n",
    "\n",
    "To create the train dataset, data is also split into train and test set randomly. The random state is set as fixed, in order to do a meaningful comparison between different models that were generated throughout the modelling process.  "
   ]
  },
  {
   "cell_type": "code",
   "execution_count": 9,
   "metadata": {},
   "outputs": [],
   "source": [
    "feature_names = ['retail_and_recreation','grocery_and_pharmacy','parks','transit_stations','workplaces','residential',\\\n",
    "                'retail_and_recreation_exp','grocery_and_pharmacy_exp','parks_exp','transit_stations_exp','workplaces_exp',\\\n",
    "                'residential_exp']\n",
    "target_name = ['reproduction_rate']"
   ]
  },
  {
   "cell_type": "code",
   "execution_count": 10,
   "metadata": {},
   "outputs": [],
   "source": [
    "##split data into train and test set\n",
    "def get_features_targets(df,feature_names,target_name):\n",
    "    ###\n",
    "    ### YOUR CODE HERE\n",
    "    df_feature = df.loc[:,feature_names]\n",
    "    df_target = pd.DataFrame(df.loc[:,target_name])\n",
    "    return df_feature, df_target\n",
    "\n",
    "def split_data(df_feature, df_target, random_state=None, test_size=0.5):\n",
    "    np.random.seed(random_state)\n",
    "    n = df_feature.shape[0]\n",
    "    size = int(n*test_size)\n",
    "    \n",
    "    test_idx = np.random.choice(n, size,replace = False)\n",
    "    df_feature_test = pd.DataFrame(df_feature.iloc[test_idx])\n",
    "    df_target_test = pd.DataFrame(df_target.iloc[test_idx])\n",
    "\n",
    "    train_idx = list(set(i for i in range(n)) - set(test_idx))\n",
    "    df_feature_train = pd.DataFrame(df_feature.iloc[train_idx])\n",
    "    df_target_train = pd.DataFrame(df_target.iloc[train_idx])\n",
    "    return df_feature_train, df_feature_test, df_target_train, df_target_test\n",
    "\n",
    "df_features, df_target = get_features_targets(df,feature_names,target_name)\n",
    "df_features_train, df_features_test, df_target_train, df_target_test = split_data(df_features,df_target,100,0.3)"
   ]
  },
  {
   "cell_type": "markdown",
   "metadata": {},
   "source": [
    "## Train Model\n",
    "\n",
    "[Return to top](#D2W-2D-Project-Task-2)  \n",
    "\n",
    "Since all factors are continuous data and increase at an increasing rate, Multiple Linear Regression model is suitable to model the reproduction rate of COVID-19, based on the movement trends. Using gradient descent, we iteratively improve the model."
   ]
  },
  {
   "cell_type": "code",
   "execution_count": 11,
   "metadata": {},
   "outputs": [],
   "source": [
    "##helper functions for preparing data for insertion into model\n",
    "def normalize_z(df):\n",
    "    mean = df.mean(axis=0)\n",
    "    std = df.std(axis=0)\n",
    "    #carry out the normalization procedure\n",
    "    dfout = (df - mean)/std\n",
    "    #display(dfout)\n",
    "    return dfout\n",
    "\n",
    "def prepare_features(df_feature):\n",
    "    df_feature = normalize_z(df_feature)\n",
    "    m = df_feature.shape[0]\n",
    "    first_column = np.ones(m).reshape(m,1)\n",
    "    x_matrix = np.concatenate((first_column,df_feature),1)\n",
    "    return x_matrix\n",
    "\n",
    "def prepare_target(df_target):\n",
    "    return df_target.to_numpy()"
   ]
  },
  {
   "cell_type": "code",
   "execution_count": 12,
   "metadata": {},
   "outputs": [],
   "source": [
    "##set up cost function\n",
    "def compute_cost(X, y, beta):\n",
    "    J = 0\n",
    "    hypothesis  = np.matmul(X,beta)\n",
    "    error = hypothesis - y\n",
    "    m = y.shape[0]\n",
    "    J = (1/(2*m)) * np.matmul(error.T,error)\n",
    "    return J\n",
    "\n",
    "##set up gradient descent\n",
    "def gradient_descent(df, beta, alpha, num_iters):\n",
    "    df_features_train, df_features_test, df_target_train, df_target_test = split_data(df_features,df_target,100,0.3)\n",
    "    \n",
    "    X_train = prepare_features(df_features_train)\n",
    "    y_train = prepare_target(df_target_train)\n",
    "    X_test = prepare_features(df_features_test)\n",
    "    y_test = prepare_target(df_target_test)\n",
    "    \n",
    "    m = y_train.shape[0]\n",
    "    J_storage_train = np.zeros((num_iters,1))\n",
    "    J_storage_test = np.zeros((num_iters,1))\n",
    "    for i in range(num_iters):\n",
    "        derivative = (1/m) * np.matmul(X_train.T, (np.matmul(X_train,beta)-y_train))\n",
    "        beta = beta - alpha * derivative\n",
    "        J_storage_train[i] = compute_cost(X_train,y_train,beta)\n",
    "        J_storage_test[i] = compute_cost(X_test,y_test,beta)\n",
    "    return beta, J_storage_train, J_storage_test\n",
    "\n",
    "##optimize weights\n",
    "n = len(df_features.columns)\n",
    "iterations = 5000\n",
    "alpha = 0.1\n",
    "beta = np.zeros((n+1,1))\n",
    "\n",
    "beta, J_storage_train, J_storage_test = gradient_descent(df, beta, alpha, iterations)"
   ]
  },
  {
   "cell_type": "code",
   "execution_count": 13,
   "metadata": {
    "scrolled": true
   },
   "outputs": [
    {
     "data": {
      "text/plain": [
       "0.010849701465644712"
      ]
     },
     "execution_count": 13,
     "metadata": {},
     "output_type": "execute_result"
    }
   ],
   "source": [
    "J_storage_train[-1][0]"
   ]
  },
  {
   "cell_type": "markdown",
   "metadata": {},
   "source": [
    "## Model Training Logs\n",
    "\n",
    "[Return to top](#D2W-2D-Project-Task-2)\n",
    "\n",
    "During training of data, it is shown that the cost of train datasets do not change much after 1000 iterations. Hence, we can conclude that the model has reached a local minimum cost value. Overfitting did not occur as the difference in cost between test and train dataset continued to stay the same."
   ]
  },
  {
   "cell_type": "code",
   "execution_count": 14,
   "metadata": {},
   "outputs": [
    {
     "data": {
      "text/plain": [
       "<matplotlib.legend.Legend at 0x27bba9c5288>"
      ]
     },
     "execution_count": 14,
     "metadata": {},
     "output_type": "execute_result"
    },
    {
     "data": {
      "image/png": "[encoded data removed]",
      "text/plain": [
       "<Figure size 432x288 with 1 Axes>"
      ]
     },
     "metadata": {
      "needs_background": "light"
     },
     "output_type": "display_data"
    }
   ],
   "source": [
    "plt.plot(J_storage_train)\n",
    "plt.plot(J_storage_test)\n",
    "plt.legend(['train','test'])"
   ]
  },
  {
   "cell_type": "code",
   "execution_count": 15,
   "metadata": {
    "scrolled": true
   },
   "outputs": [
    {
     "data": {
      "text/plain": [
       "<matplotlib.legend.Legend at 0x27bb941e108>"
      ]
     },
     "execution_count": 15,
     "metadata": {},
     "output_type": "execute_result"
    },
    {
     "data": {
      "image/png": "[encoded data removed]",
      "text/plain": [
       "<Figure size 432x288 with 1 Axes>"
      ]
     },
     "metadata": {
      "needs_background": "light"
     },
     "output_type": "display_data"
    }
   ],
   "source": [
    "#zoom-in picture of the tail, \n",
    "#since the initial high cost makes it difficult to compare\n",
    "#cost of train and test over iterations towards the end\n",
    "\n",
    "plt.plot(J_storage_train[100:])\n",
    "plt.plot(J_storage_test[100:])\n",
    "plt.legend(['train','test'])"
   ]
  },
  {
   "cell_type": "markdown",
   "metadata": {},
   "source": [
    "## Evaluate Model\n",
    "\n",
    "[Return to top](#D2W-2D-Project-Task-2)\n",
    "\n",
    "**Chosen Metric**: RMSE was chosen as a metric in order to evaluate the accuracy of this model. The closer it is to 0, the more accurate it is.  \n",
    "\n",
    "**Results**: The root mean squared error of the model is 0.14 (3s.f). This shows that there on average, there is an error of 0.14 from the actual reproduction rate of COVID-19 for each data point.\n",
    "\n",
    "**Limitations**: \n",
    "\n",
    "1. *Using movement trends to predict reproduction rate of COVID-19 is not useful in countries that managed to successfully pursue a 'zero-COVID' strategy*  \n",
    "\n",
    "When a country is able to successfully keep COVID-19 transmission to virtually zero and ensure that there are strict border measures in place, people are then able to visit public places without increasing the reproduction rate of COVID-19, as there is little to no carriers of the virus in the community. Hence, movement trends will not be a good predictor in these countries, which include countries in the East Asia region and Australia. This can be seen when modelling for Singapore and Vietnam, as compared to United Kingdom and United States as shown in the table below.  \n",
    "\n",
    "| Country | RMSE (3 s.f.) |\n",
    "| :-: | :-: |\n",
    "| United Kingdom | 0.146 |\n",
    "| United States | 0.181 |\n",
    "| Singapore | 0.374 |\n",
    "| Vietnam | 0.317 |\n",
    "\n",
    "However, this will be less likely of a limitation, as more countries are accepting the necessity to live with COVID-19, which will make the virus endemic and constantly present in the community, albeit at a low rate. Hence, this model will still be useful for such countries who are changing from a \"zero-COVID\" strategy to an \"endemic-COVID\" strategy.\n",
    "\n",
    "2. *Other factors that affect COVID-19 reproduction value are not considered*\n",
    "\n",
    "Reproduction rate of COVID-19 are not solely driven by societal factors. As more variants of COVID-19 appear, the transmissability of the virus may increase, which may further drive up the reproduction value of COVID-19. Further studies can make use of biological data to further improve this model."
   ]
  },
  {
   "cell_type": "code",
   "execution_count": 16,
   "metadata": {},
   "outputs": [],
   "source": [
    "##evaluate cost on test data\n",
    "def predict(df_feature, beta):\n",
    "    #df_feature = prepare_features(df_feature)\n",
    "    df_feature = prepare_features(df_feature)\n",
    "    pred_y = np.matmul(df_feature,beta)\n",
    "    return pred_y\n",
    "\n",
    "pred = predict(df_features_test,beta)"
   ]
  },
  {
   "cell_type": "code",
   "execution_count": 17,
   "metadata": {},
   "outputs": [],
   "source": [
    "## change predicted results into Dataframe form, so that can compare with original data\n",
    "mod_pred = pd.DataFrame(pred, columns = ['reproduction_rate_predicted'], index = df_target_test.index)"
   ]
  },
  {
   "cell_type": "code",
   "execution_count": 18,
   "metadata": {
    "scrolled": true
   },
   "outputs": [
    {
     "data": {
      "text/html": [
       "<div>\n",
       "<style scoped>\n",
       "    .dataframe tbody tr th:only-of-type {\n",
       "        vertical-align: middle;\n",
       "    }\n",
       "\n",
       "    .dataframe tbody tr th {\n",
       "        vertical-align: top;\n",
       "    }\n",
       "\n",
       "    .dataframe thead th {\n",
       "        text-align: right;\n",
       "    }\n",
       "</style>\n",
       "<table border=\"1\" class=\"dataframe\">\n",
       "  <thead>\n",
       "    <tr style=\"text-align: right;\">\n",
       "      <th></th>\n",
       "      <th>reproduction_rate</th>\n",
       "      <th>reproduction_rate_predicted</th>\n",
       "    </tr>\n",
       "  </thead>\n",
       "  <tbody>\n",
       "    <tr>\n",
       "      <th>243</th>\n",
       "      <td>1.05</td>\n",
       "      <td>1.151972</td>\n",
       "    </tr>\n",
       "    <tr>\n",
       "      <th>85</th>\n",
       "      <td>0.86</td>\n",
       "      <td>0.893401</td>\n",
       "    </tr>\n",
       "    <tr>\n",
       "      <th>205</th>\n",
       "      <td>0.81</td>\n",
       "      <td>1.211208</td>\n",
       "    </tr>\n",
       "    <tr>\n",
       "      <th>234</th>\n",
       "      <td>1.08</td>\n",
       "      <td>1.006881</td>\n",
       "    </tr>\n",
       "    <tr>\n",
       "      <th>239</th>\n",
       "      <td>1.03</td>\n",
       "      <td>0.954074</td>\n",
       "    </tr>\n",
       "    <tr>\n",
       "      <th>...</th>\n",
       "      <td>...</td>\n",
       "      <td>...</td>\n",
       "    </tr>\n",
       "    <tr>\n",
       "      <th>281</th>\n",
       "      <td>1.09</td>\n",
       "      <td>1.102363</td>\n",
       "    </tr>\n",
       "    <tr>\n",
       "      <th>123</th>\n",
       "      <td>0.92</td>\n",
       "      <td>0.972950</td>\n",
       "    </tr>\n",
       "    <tr>\n",
       "      <th>3</th>\n",
       "      <td>1.29</td>\n",
       "      <td>0.908986</td>\n",
       "    </tr>\n",
       "    <tr>\n",
       "      <th>148</th>\n",
       "      <td>1.30</td>\n",
       "      <td>1.104394</td>\n",
       "    </tr>\n",
       "    <tr>\n",
       "      <th>241</th>\n",
       "      <td>1.00</td>\n",
       "      <td>0.790732</td>\n",
       "    </tr>\n",
       "  </tbody>\n",
       "</table>\n",
       "<p>87 rows × 2 columns</p>\n",
       "</div>"
      ],
      "text/plain": [
       "     reproduction_rate  reproduction_rate_predicted\n",
       "243               1.05                     1.151972\n",
       "85                0.86                     0.893401\n",
       "205               0.81                     1.211208\n",
       "234               1.08                     1.006881\n",
       "239               1.03                     0.954074\n",
       "..                 ...                          ...\n",
       "281               1.09                     1.102363\n",
       "123               0.92                     0.972950\n",
       "3                 1.29                     0.908986\n",
       "148               1.30                     1.104394\n",
       "241               1.00                     0.790732\n",
       "\n",
       "[87 rows x 2 columns]"
      ]
     },
     "execution_count": 18,
     "metadata": {},
     "output_type": "execute_result"
    }
   ],
   "source": [
    "pd.concat([df_target_test,mod_pred],1)"
   ]
  },
  {
   "cell_type": "code",
   "execution_count": 19,
   "metadata": {},
   "outputs": [
    {
     "data": {
      "text/plain": [
       "Text(0, 0.5, 'reproduction_rate')"
      ]
     },
     "execution_count": 19,
     "metadata": {},
     "output_type": "execute_result"
    },
    {
     "data": {
      "image/png": "[encoded data removed]",
      "text/plain": [
       "<Figure size 432x288 with 1 Axes>"
      ]
     },
     "metadata": {
      "needs_background": "light"
     },
     "output_type": "display_data"
    }
   ],
   "source": [
    "plt.scatter(df_features_test[feature_names[0]],df_target_test)\n",
    "plt.scatter(df_features_test[feature_names[0]],pred)\n",
    "plt.xlabel(feature_names[0])\n",
    "plt.ylabel(target_name[0])"
   ]
  },
  {
   "cell_type": "code",
   "execution_count": 20,
   "metadata": {
    "scrolled": true
   },
   "outputs": [
    {
     "data": {
      "text/plain": [
       "Text(0, 0.5, 'reproduction_rate')"
      ]
     },
     "execution_count": 20,
     "metadata": {},
     "output_type": "execute_result"
    },
    {
     "data": {
      "image/png": "[encoded data removed]",
      "text/plain": [
       "<Figure size 432x288 with 1 Axes>"
      ]
     },
     "metadata": {
      "needs_background": "light"
     },
     "output_type": "display_data"
    }
   ],
   "source": [
    "plt.scatter(df_features_test[feature_names[6]],df_target_test)\n",
    "plt.scatter(df_features_test[feature_names[6]],pred)\n",
    "plt.xlabel(feature_names[6])\n",
    "plt.ylabel(target_name[0])"
   ]
  },
  {
   "cell_type": "code",
   "execution_count": 21,
   "metadata": {},
   "outputs": [],
   "source": [
    "def r2_score(y, ypred):\n",
    "    error_n = y - ypred\n",
    "    numerator = np.matmul(error_n.T,error_n)[0][0]/y.shape[0]\n",
    "    #print(numerator)\n",
    "    error_d = y - np.full((y.shape[0],y.shape[1]),np.mean(y))\n",
    "    denominator = np.matmul(error_d.T,error_d)[0][0]/y.shape[0]\n",
    "    #print(denominator)\n",
    "    \n",
    "    return 1 - numerator/denominator\n",
    "\n",
    "\n",
    "def root_mean_squared_error(target, pred):\n",
    "    error = target - pred\n",
    "    n = target.shape[0]\n",
    "    mse = ((1/n) * np.matmul(error.T,error))[0][0]\n",
    "    return mse ** 0.5\n",
    "    ###\n",
    "    pass"
   ]
  },
  {
   "cell_type": "code",
   "execution_count": 22,
   "metadata": {},
   "outputs": [
    {
     "name": "stdout",
     "output_type": "stream",
     "text": [
      "0.5442320130466454\n",
      "0.14644687363824094\n"
     ]
    }
   ],
   "source": [
    "# change target test set to a numpy array\n",
    "target = prepare_target(df_target_test)\n",
    "\n",
    "# Calculate r2 score by calling a function\n",
    "r2 = r2_score(target,pred)\n",
    "rmse = root_mean_squared_error(target,pred)\n",
    "print(r2)\n",
    "print(rmse)"
   ]
  }
 ],
 "metadata": {
  "kernelspec": {
   "display_name": "Python 3",
   "language": "python",
   "name": "python3"
  },
  "language_info": {
   "codemirror_mode": {
    "name": "ipython",
    "version": 3
   },
   "file_extension": ".py",
   "mimetype": "text/x-python",
   "name": "python",
   "nbconvert_exporter": "python",
   "pygments_lexer": "ipython3",
   "version": "3.7.6"
  }
 },
 "nbformat": 4,
 "nbformat_minor": 4
}
